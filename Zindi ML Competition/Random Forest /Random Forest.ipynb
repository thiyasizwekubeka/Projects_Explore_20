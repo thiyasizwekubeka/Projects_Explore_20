{
 "cells": [
  {
   "cell_type": "code",
   "execution_count": 1,
   "metadata": {},
   "outputs": [],
   "source": [
    "import pandas as pd\n",
    "import numpy as np\n",
    "import datetime as dt\n",
    "import matplotlib.pyplot as plt\n",
    "%matplotlib inline\n",
    "import seaborn as sns\n",
    "\n",
    "import warnings\n",
    "warnings.filterwarnings('ignore')\n",
    "\n",
    "from sklearn.preprocessing import LabelEncoder\n",
    "from sklearn.model_selection import train_test_split, KFold, GridSearchCV \n",
    "from sklearn.model_selection import cross_val_score, learning_curve\n",
    "from sklearn.metrics import mean_squared_error\n",
    "\n",
    "from sklearn.svm import SVR\n",
    "from sklearn.ensemble import ExtraTreesRegressor, RandomForestRegressor, GradientBoostingRegressor\n",
    "from sklearn.linear_model import LinearRegression\n",
    "\n",
    "#import xgboost as xgb\n",
    "#import lightgbm as lgb\n",
    "\n",
    "sns.set(style='white', context='notebook', palette='deep')"
   ]
  },
  {
   "cell_type": "code",
   "execution_count": 2,
   "metadata": {},
   "outputs": [],
   "source": [
    "train_df = pd.read_csv(\"Train.csv\")\n",
    "test_df = pd.read_csv(\"Test.csv\")\n"
   ]
  },
  {
   "cell_type": "code",
   "execution_count": 3,
   "metadata": {},
   "outputs": [],
   "source": [
    "train_df = train_df.drop(['Arrival at Destination - Day of Month', 'Arrival at Destination - Weekday (Mo = 1)', 'Arrival at Destination - Time'], axis=1)\n"
   ]
  },
  {
   "cell_type": "code",
   "execution_count": 4,
   "metadata": {},
   "outputs": [
    {
     "data": {
      "text/plain": [
       "((21201, 26), (7068, 26), (28269, 26))"
      ]
     },
     "execution_count": 4,
     "metadata": {},
     "output_type": "execute_result"
    }
   ],
   "source": [
    "border = train_df.shape[0]\n",
    "test_df['Time from Pickup to Arrival'] = [np.nan]* test_df.shape[0]\n",
    "full_df = pd.concat([train_df, test_df], axis=0, ignore_index=True)\n",
    "\n",
    "train_df.shape, test_df.shape, full_df.shape"
   ]
  },
  {
   "cell_type": "code",
   "execution_count": 5,
   "metadata": {},
   "outputs": [
    {
     "data": {
      "text/plain": [
       "Index(['Order_No', 'User_Id', 'Vehicle_Type', 'Platform_Type',\n",
       "       'Personal_Business', 'Pla_Mon', 'Pla_Weekday', 'Pla_Time',\n",
       "       'Con_Day_Mon', 'Con_Weekday', 'Con_Time', 'Arr_Pic_Mon',\n",
       "       'Arr_Pic_Weekday', 'Arr_Pic_Time', 'Pickup_Mon', 'Pickup_Weekday',\n",
       "       'Pickup_Time', 'Distance(km)', 'Temperature', 'Precipitation(mm)',\n",
       "       'Pickup_Lat', 'Pickup_Lon', 'Destination_Lat', 'Destination_Lon',\n",
       "       'Rider_Id', 'Time_Pic_Arr'],\n",
       "      dtype='object')"
      ]
     },
     "execution_count": 5,
     "metadata": {},
     "output_type": "execute_result"
    }
   ],
   "source": [
    "new_names = {\"Order No\": \"Order_No\", \"User Id\": \"User_Id\", \"Vehicle Type\": \"Vehicle_Type\",\n",
    "    \"Personal or Business\": \"Personal_Business\", \"Placement - Day of Month\": \"Pla_Mon\",\n",
    "    \"Placement - Weekday (Mo = 1)\": \"Pla_Weekday\", \"Placement - Time\": \"Pla_Time\", \n",
    "    \"Confirmation - Day of Month\":\"Con_Day_Mon\", \"Confirmation - Weekday (Mo = 1)\": \"Con_Weekday\",\"Confirmation - Time\": \"Con_Time\", \n",
    "    \"Arrival at Pickup - Day of Month\": \"Arr_Pic_Mon\", \"Arrival at Pickup - Weekday (Mo = 1)\": \"Arr_Pic_Weekday\", \n",
    "                \"Arrival at Pickup - Time\": \"Arr_Pic_Time\", \"Platform Type\": \"Platform_Type\",\n",
    "     \"Pickup - Day of Month\": \"Pickup_Mon\", \"Pickup - Weekday (Mo = 1)\": \"Pickup_Weekday\",           \n",
    "    \"Pickup - Time\": \"Pickup_Time\",  \"Distance (KM)\": \"Distance(km)\",\n",
    "    \"Precipitation in millimeters\": \"Precipitation(mm)\", \"Pickup Lat\": \"Pickup_Lat\", \"Pickup Long\": \"Pickup_Lon\", \n",
    "    \"Destination Lat\": \"Destination_Lat\", \"Destination Long\":\"Destination_Lon\", \"Rider Id\": \"Rider_Id\",\n",
    "                            \"Time from Pickup to Arrival\": \"Time_Pic_Arr\"\n",
    "                           }\n",
    "\n",
    "full_df = full_df.rename(columns=new_names)\n",
    "full_df.columns"
   ]
  },
  {
   "cell_type": "code",
   "execution_count": 6,
   "metadata": {},
   "outputs": [
    {
     "data": {
      "text/html": [
       "<div>\n",
       "<style scoped>\n",
       "    .dataframe tbody tr th:only-of-type {\n",
       "        vertical-align: middle;\n",
       "    }\n",
       "\n",
       "    .dataframe tbody tr th {\n",
       "        vertical-align: top;\n",
       "    }\n",
       "\n",
       "    .dataframe thead th {\n",
       "        text-align: right;\n",
       "    }\n",
       "</style>\n",
       "<table border=\"1\" class=\"dataframe\">\n",
       "  <thead>\n",
       "    <tr style=\"text-align: right;\">\n",
       "      <th></th>\n",
       "      <th>Pla_Time</th>\n",
       "      <th>Con_Time</th>\n",
       "      <th>Arr_Pic_Time</th>\n",
       "      <th>Pickup_Time</th>\n",
       "    </tr>\n",
       "  </thead>\n",
       "  <tbody>\n",
       "    <tr>\n",
       "      <th>3</th>\n",
       "      <td>09:25:34</td>\n",
       "      <td>09:26:05</td>\n",
       "      <td>09:37:56</td>\n",
       "      <td>09:43:06</td>\n",
       "    </tr>\n",
       "    <tr>\n",
       "      <th>4</th>\n",
       "      <td>09:55:18</td>\n",
       "      <td>09:56:18</td>\n",
       "      <td>10:03:53</td>\n",
       "      <td>10:05:23</td>\n",
       "    </tr>\n",
       "    <tr>\n",
       "      <th>5</th>\n",
       "      <td>15:07:35</td>\n",
       "      <td>15:08:57</td>\n",
       "      <td>15:21:36</td>\n",
       "      <td>15:30:30</td>\n",
       "    </tr>\n",
       "  </tbody>\n",
       "</table>\n",
       "</div>"
      ],
      "text/plain": [
       "   Pla_Time  Con_Time Arr_Pic_Time Pickup_Time\n",
       "3  09:25:34  09:26:05     09:37:56    09:43:06\n",
       "4  09:55:18  09:56:18     10:03:53    10:05:23\n",
       "5  15:07:35  15:08:57     15:21:36    15:30:30"
      ]
     },
     "execution_count": 6,
     "metadata": {},
     "output_type": "execute_result"
    }
   ],
   "source": [
    "def convert_to_24hrs(fulldf):\n",
    "    for col in fulldf.columns:\n",
    "        if col.endswith(\"Time\"):\n",
    "            fulldf[col] = pd.to_datetime(fulldf[col], format='%I:%M:%S %p').dt.strftime(\"%H:%M:%S\")\n",
    "    return fulldf\n",
    "\n",
    "full_df = convert_to_24hrs(full_df)\n",
    "\n",
    "full_df[['Pla_Time', 'Con_Time' , 'Arr_Pic_Time', 'Pickup_Time']][3:6]\n"
   ]
  },
  {
   "cell_type": "code",
   "execution_count": 7,
   "metadata": {},
   "outputs": [],
   "source": [
    "full_df['Temperature'] = full_df['Temperature'].fillna(full_df['Temperature'].mean())\n",
    "full_df['Precipitation(mm)'].fillna(full_df['Precipitation(mm)'].mean(), inplace=True)"
   ]
  },
  {
   "cell_type": "code",
   "execution_count": 8,
   "metadata": {},
   "outputs": [
    {
     "name": "stdout",
     "output_type": "stream",
     "text": [
      "2\r"
     ]
    },
    {
     "data": {
      "text/plain": [
       "[[17, 18, 18, 18], [11, 13, 13, 13]]"
      ]
     },
     "execution_count": 8,
     "metadata": {},
     "output_type": "execute_result"
    }
   ],
   "source": [
    "month_cols = [col for col in full_df.columns if col.endswith(\"Mon\")]\n",
    "weekday_cols = [col for col in full_df.columns if col.endswith(\"Weekday\")]\n",
    "\n",
    "count = 0\n",
    "instances_of_different_days = [];\n",
    "for i, row in full_df.iterrows():\n",
    "    if len(set(row[month_cols].values)) > 1:\n",
    "        print(count+1, end=\"\\r\")\n",
    "        count = count + 1\n",
    "        instances_of_different_days.append(list(row[month_cols].values))\n",
    "instances_of_different_days"
   ]
  },
  {
   "cell_type": "code",
   "execution_count": 9,
   "metadata": {},
   "outputs": [],
   "source": [
    "full_df['Day_of_Month'] = full_df[month_cols[0]]\n",
    "full_df['Day_of_Week'] = full_df[weekday_cols[0]]"
   ]
  },
  {
   "cell_type": "code",
   "execution_count": 10,
   "metadata": {},
   "outputs": [],
   "source": [
    "full_df.drop(month_cols+weekday_cols, axis=1, inplace=True)\n",
    "full_df.drop('Vehicle_Type', axis=1, inplace=True)"
   ]
  },
  {
   "cell_type": "code",
   "execution_count": 11,
   "metadata": {},
   "outputs": [
    {
     "data": {
      "text/html": [
       "<div>\n",
       "<style scoped>\n",
       "    .dataframe tbody tr th:only-of-type {\n",
       "        vertical-align: middle;\n",
       "    }\n",
       "\n",
       "    .dataframe tbody tr th {\n",
       "        vertical-align: top;\n",
       "    }\n",
       "\n",
       "    .dataframe thead th {\n",
       "        text-align: right;\n",
       "    }\n",
       "</style>\n",
       "<table border=\"1\" class=\"dataframe\">\n",
       "  <thead>\n",
       "    <tr style=\"text-align: right;\">\n",
       "      <th></th>\n",
       "      <th>Platform_Type</th>\n",
       "      <th>Distance(km)</th>\n",
       "      <th>Temperature</th>\n",
       "      <th>Precipitation(mm)</th>\n",
       "      <th>Pickup_Lat</th>\n",
       "      <th>Pickup_Lon</th>\n",
       "      <th>Destination_Lat</th>\n",
       "      <th>Destination_Lon</th>\n",
       "      <th>Day_of_Month</th>\n",
       "      <th>Day_of_Week</th>\n",
       "    </tr>\n",
       "  </thead>\n",
       "  <tbody>\n",
       "    <tr>\n",
       "      <th>0</th>\n",
       "      <td>3</td>\n",
       "      <td>4</td>\n",
       "      <td>20.400000</td>\n",
       "      <td>7.573502</td>\n",
       "      <td>-1.317755</td>\n",
       "      <td>36.830370</td>\n",
       "      <td>-1.300406</td>\n",
       "      <td>36.829741</td>\n",
       "      <td>9</td>\n",
       "      <td>5</td>\n",
       "    </tr>\n",
       "    <tr>\n",
       "      <th>1</th>\n",
       "      <td>3</td>\n",
       "      <td>16</td>\n",
       "      <td>26.400000</td>\n",
       "      <td>7.573502</td>\n",
       "      <td>-1.351453</td>\n",
       "      <td>36.899315</td>\n",
       "      <td>-1.295004</td>\n",
       "      <td>36.814358</td>\n",
       "      <td>12</td>\n",
       "      <td>5</td>\n",
       "    </tr>\n",
       "    <tr>\n",
       "      <th>2</th>\n",
       "      <td>3</td>\n",
       "      <td>3</td>\n",
       "      <td>23.255689</td>\n",
       "      <td>7.573502</td>\n",
       "      <td>-1.308284</td>\n",
       "      <td>36.843419</td>\n",
       "      <td>-1.300921</td>\n",
       "      <td>36.828195</td>\n",
       "      <td>30</td>\n",
       "      <td>2</td>\n",
       "    </tr>\n",
       "  </tbody>\n",
       "</table>\n",
       "</div>"
      ],
      "text/plain": [
       "   Platform_Type  Distance(km)  Temperature  Precipitation(mm)  Pickup_Lat  \\\n",
       "0              3             4    20.400000           7.573502   -1.317755   \n",
       "1              3            16    26.400000           7.573502   -1.351453   \n",
       "2              3             3    23.255689           7.573502   -1.308284   \n",
       "\n",
       "   Pickup_Lon  Destination_Lat  Destination_Lon  Day_of_Month  Day_of_Week  \n",
       "0   36.830370        -1.300406        36.829741             9            5  \n",
       "1   36.899315        -1.295004        36.814358            12            5  \n",
       "2   36.843419        -1.300921        36.828195            30            2  "
      ]
     },
     "execution_count": 11,
     "metadata": {},
     "output_type": "execute_result"
    }
   ],
   "source": [
    "numeric_cols = []\n",
    "object_cols = []\n",
    "time_cols = []\n",
    "for k, v in full_df.dtypes.items():\n",
    "    if (v != object):\n",
    "        if (k != \"Time_Pic_Arr\"):\n",
    "            numeric_cols.append(k)\n",
    "    elif k.endswith(\"Time\"):\n",
    "        time_cols.append(k)\n",
    "    else:\n",
    "        object_cols.append(k)\n",
    "full_df[numeric_cols].head(3) "
   ]
  },
  {
   "cell_type": "code",
   "execution_count": 12,
   "metadata": {},
   "outputs": [
    {
     "data": {
      "text/plain": [
       "0    0\n",
       "1    1\n",
       "Name: Personal_Business, dtype: int64"
      ]
     },
     "execution_count": 12,
     "metadata": {},
     "output_type": "execute_result"
    }
   ],
   "source": [
    "le = LabelEncoder()\n",
    "le.fit(full_df['Personal_Business'])\n",
    "full_df['Personal_Business'] = le.transform(full_df['Personal_Business'])\n",
    "full_df['Personal_Business'][:2]\n"
   ]
  },
  {
   "cell_type": "markdown",
   "metadata": {},
   "source": [
    "## Feature Engineering "
   ]
  },
  {
   "cell_type": "code",
   "execution_count": 13,
   "metadata": {},
   "outputs": [],
   "source": [
    "features = numeric_cols + ['Personal_Business']\n",
    "\n",
    "data_df = full_df[features]\n",
    "\n",
    "y = full_df[:border]['Time_Pic_Arr']\n",
    "train = data_df[:border]\n",
    "test = data_df[border:]\n"
   ]
  },
  {
   "cell_type": "code",
   "execution_count": 14,
   "metadata": {},
   "outputs": [
    {
     "name": "stdout",
     "output_type": "stream",
     "text": [
      "(16960, 11) (4241, 11) (16960,) (4241,)\n"
     ]
    }
   ],
   "source": [
    "X_train, X_test, y_train, y_test = train_test_split(train, y, test_size=0.2, shuffle=True)\n",
    "print(X_train.shape, X_test.shape, y_train.shape, y_test.shape)"
   ]
  },
  {
   "cell_type": "code",
   "execution_count": 17,
   "metadata": {},
   "outputs": [
    {
     "name": "stdout",
     "output_type": "stream",
     "text": [
      "779.3669339224797 {'max_depth': None, 'max_features': 3, 'min_samples_leaf': 3, 'min_samples_split': 10, 'n_estimators': 300}\n"
     ]
    }
   ],
   "source": [
    "rs = 3\n",
    "kfold = KFold(n_splits=10, random_state=rs, shuffle=True)\n",
    "RFC = RandomForestRegressor(random_state=rs)\n",
    "rf_param = {\"max_depth\":[None], \"max_features\":[3], \"min_samples_split\":[10],\n",
    "           \"min_samples_leaf\": [3], \"n_estimators\":[300]}\n",
    "rsearch = GridSearchCV(RFC, cv=kfold, scoring='neg_mean_squared_error',param_grid=rf_param)\n",
    "rfm = rsearch.fit(X_train, y_train)\n",
    "\n",
    "r_score = np.sqrt(abs(rfm.best_score_))\n",
    "r_params = rfm.best_params_\n",
    "print(r_score, r_params)"
   ]
  },
  {
   "cell_type": "code",
   "execution_count": 23,
   "metadata": {},
   "outputs": [],
   "source": [
    "pred = rsearch.predict(test)"
   ]
  },
  {
   "cell_type": "code",
   "execution_count": 25,
   "metadata": {},
   "outputs": [],
   "source": [
    "test_1 = test_df[['Order No']]\n",
    "test_1['Time from Pickup to Arrival'] = pred"
   ]
  },
  {
   "cell_type": "code",
   "execution_count": 26,
   "metadata": {},
   "outputs": [
    {
     "data": {
      "text/html": [
       "<div>\n",
       "<style scoped>\n",
       "    .dataframe tbody tr th:only-of-type {\n",
       "        vertical-align: middle;\n",
       "    }\n",
       "\n",
       "    .dataframe tbody tr th {\n",
       "        vertical-align: top;\n",
       "    }\n",
       "\n",
       "    .dataframe thead th {\n",
       "        text-align: right;\n",
       "    }\n",
       "</style>\n",
       "<table border=\"1\" class=\"dataframe\">\n",
       "  <thead>\n",
       "    <tr style=\"text-align: right;\">\n",
       "      <th></th>\n",
       "      <th>Order No</th>\n",
       "      <th>Time from Pickup to Arrival</th>\n",
       "    </tr>\n",
       "  </thead>\n",
       "  <tbody>\n",
       "    <tr>\n",
       "      <th>0</th>\n",
       "      <td>Order_No_19248</td>\n",
       "      <td>1544.597199</td>\n",
       "    </tr>\n",
       "    <tr>\n",
       "      <th>1</th>\n",
       "      <td>Order_No_12736</td>\n",
       "      <td>1272.714495</td>\n",
       "    </tr>\n",
       "    <tr>\n",
       "      <th>2</th>\n",
       "      <td>Order_No_768</td>\n",
       "      <td>1266.562087</td>\n",
       "    </tr>\n",
       "    <tr>\n",
       "      <th>3</th>\n",
       "      <td>Order_No_15332</td>\n",
       "      <td>1191.638518</td>\n",
       "    </tr>\n",
       "    <tr>\n",
       "      <th>4</th>\n",
       "      <td>Order_No_21373</td>\n",
       "      <td>1047.847116</td>\n",
       "    </tr>\n",
       "    <tr>\n",
       "      <th>...</th>\n",
       "      <td>...</td>\n",
       "      <td>...</td>\n",
       "    </tr>\n",
       "    <tr>\n",
       "      <th>7063</th>\n",
       "      <td>Order_No_3612</td>\n",
       "      <td>1730.796324</td>\n",
       "    </tr>\n",
       "    <tr>\n",
       "      <th>7064</th>\n",
       "      <td>Order_No_7657</td>\n",
       "      <td>3009.181954</td>\n",
       "    </tr>\n",
       "    <tr>\n",
       "      <th>7065</th>\n",
       "      <td>Order_No_1969</td>\n",
       "      <td>1443.339153</td>\n",
       "    </tr>\n",
       "    <tr>\n",
       "      <th>7066</th>\n",
       "      <td>Order_No_10591</td>\n",
       "      <td>2664.143440</td>\n",
       "    </tr>\n",
       "    <tr>\n",
       "      <th>7067</th>\n",
       "      <td>Order_No_1603</td>\n",
       "      <td>1906.400686</td>\n",
       "    </tr>\n",
       "  </tbody>\n",
       "</table>\n",
       "<p>7068 rows × 2 columns</p>\n",
       "</div>"
      ],
      "text/plain": [
       "            Order No  Time from Pickup to Arrival\n",
       "0     Order_No_19248                  1544.597199\n",
       "1     Order_No_12736                  1272.714495\n",
       "2       Order_No_768                  1266.562087\n",
       "3     Order_No_15332                  1191.638518\n",
       "4     Order_No_21373                  1047.847116\n",
       "...              ...                          ...\n",
       "7063   Order_No_3612                  1730.796324\n",
       "7064   Order_No_7657                  3009.181954\n",
       "7065   Order_No_1969                  1443.339153\n",
       "7066  Order_No_10591                  2664.143440\n",
       "7067   Order_No_1603                  1906.400686\n",
       "\n",
       "[7068 rows x 2 columns]"
      ]
     },
     "execution_count": 26,
     "metadata": {},
     "output_type": "execute_result"
    }
   ],
   "source": [
    "test_1"
   ]
  },
  {
   "cell_type": "code",
   "execution_count": 27,
   "metadata": {},
   "outputs": [],
   "source": [
    "test_1.to_csv('random_forest.csv', index=False)"
   ]
  },
  {
   "cell_type": "code",
   "execution_count": null,
   "metadata": {},
   "outputs": [],
   "source": []
  }
 ],
 "metadata": {
  "kernelspec": {
   "display_name": "Python 3",
   "language": "python",
   "name": "python3"
  },
  "language_info": {
   "codemirror_mode": {
    "name": "ipython",
    "version": 3
   },
   "file_extension": ".py",
   "mimetype": "text/x-python",
   "name": "python",
   "nbconvert_exporter": "python",
   "pygments_lexer": "ipython3",
   "version": "3.7.6"
  }
 },
 "nbformat": 4,
 "nbformat_minor": 4
}
